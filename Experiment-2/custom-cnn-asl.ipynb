{
 "cells": [
  {
   "cell_type": "markdown",
   "id": "0591c857",
   "metadata": {
    "id": "L9_rhP8lKYBz",
    "papermill": {
     "duration": 0.036559,
     "end_time": "2022-04-14T18:27:55.683789",
     "exception": false,
     "start_time": "2022-04-14T18:27:55.647230",
     "status": "completed"
    },
    "tags": []
   },
   "source": [
    "# Initialization"
   ]
  },
  {
   "cell_type": "code",
   "execution_count": 1,
   "id": "fe1c2c9c",
   "metadata": {
    "execution": {
     "iopub.execute_input": "2022-04-14T18:27:55.759703Z",
     "iopub.status.busy": "2022-04-14T18:27:55.758231Z",
     "iopub.status.idle": "2022-04-14T18:28:00.724201Z",
     "shell.execute_reply": "2022-04-14T18:28:00.723594Z",
     "shell.execute_reply.started": "2022-04-14T16:34:42.668268Z"
    },
    "id": "go1lIWbfmKIF",
    "papermill": {
     "duration": 5.004859,
     "end_time": "2022-04-14T18:28:00.724359",
     "exception": false,
     "start_time": "2022-04-14T18:27:55.719500",
     "status": "completed"
    },
    "tags": []
   },
   "outputs": [],
   "source": [
    "import os\n",
    "import pandas as pd\n",
    "import numpy as np\n",
    "import matplotlib.pyplot as plt\n",
    "\n",
    "import tensorflow as tf\n",
    "from keras.preprocessing.image import ImageDataGenerator\n",
    "from keras.applications.mobilenet import preprocess_input\n",
    "from keras.applications.mobilenet import MobileNet\n",
    "from keras import models\n",
    "from keras import layers\n",
    "from keras.callbacks import EarlyStopping\n"
   ]
  },
  {
   "cell_type": "markdown",
   "id": "a8f0045d",
   "metadata": {
    "id": "xgDXn_KLBbco",
    "papermill": {
     "duration": 0.036314,
     "end_time": "2022-04-14T18:28:01.845151",
     "exception": false,
     "start_time": "2022-04-14T18:28:01.808837",
     "status": "completed"
    },
    "tags": []
   },
   "source": [
    "# Data preprocessing"
   ]
  },
  {
   "cell_type": "code",
   "execution_count": 7,
   "id": "e1db7c80",
   "metadata": {
    "execution": {
     "iopub.execute_input": "2022-04-14T18:28:01.922964Z",
     "iopub.status.busy": "2022-04-14T18:28:01.922243Z",
     "iopub.status.idle": "2022-04-14T18:28:01.924705Z",
     "shell.execute_reply": "2022-04-14T18:28:01.924290Z",
     "shell.execute_reply.started": "2022-04-14T17:12:55.456288Z"
    },
    "id": "zK6b6aUA9pkU",
    "papermill": {
     "duration": 0.042794,
     "end_time": "2022-04-14T18:28:01.924807",
     "exception": false,
     "start_time": "2022-04-14T18:28:01.882013",
     "status": "completed"
    },
    "tags": []
   },
   "outputs": [],
   "source": [
    "train_data = \"../input/asl-aug-roboflow-multiclass/train\"\n",
    "valid_data = \"../input/asl-aug-roboflow-multiclass/valid\"\n",
    "test_data = '../input/asl-aug-roboflow-multiclass/test'"
   ]
  },
  {
   "cell_type": "code",
   "execution_count": 8,
   "id": "c4c13774",
   "metadata": {
    "execution": {
     "iopub.execute_input": "2022-04-14T18:28:02.002284Z",
     "iopub.status.busy": "2022-04-14T18:28:02.001641Z",
     "iopub.status.idle": "2022-04-14T18:28:02.082978Z",
     "shell.execute_reply": "2022-04-14T18:28:02.083750Z",
     "shell.execute_reply.started": "2022-04-14T17:08:16.393146Z"
    },
    "papermill": {
     "duration": 0.123028,
     "end_time": "2022-04-14T18:28:02.083934",
     "exception": false,
     "start_time": "2022-04-14T18:28:01.960906",
     "status": "completed"
    },
    "tags": []
   },
   "outputs": [],
   "source": [
    "df_train = pd.read_csv(r'../input/asl-aug-roboflow-multiclass/train/_classes.csv')\n",
    "df_valid = pd.read_csv(r'../input/asl-aug-roboflow-multiclass/valid/_classes.csv')\n",
    "df_test = pd.read_csv(r'../input/asl-aug-roboflow-multiclass/test/_classes.csv')"
   ]
  },
  {
   "cell_type": "code",
   "execution_count": 9,
   "id": "d8a7c003",
   "metadata": {
    "execution": {
     "iopub.execute_input": "2022-04-14T18:28:02.159447Z",
     "iopub.status.busy": "2022-04-14T18:28:02.158632Z",
     "iopub.status.idle": "2022-04-14T18:28:02.190426Z",
     "shell.execute_reply": "2022-04-14T18:28:02.190811Z",
     "shell.execute_reply.started": "2022-04-14T17:16:13.984682Z"
    },
    "papermill": {
     "duration": 0.070541,
     "end_time": "2022-04-14T18:28:02.190969",
     "exception": false,
     "start_time": "2022-04-14T18:28:02.120428",
     "status": "completed"
    },
    "tags": []
   },
   "outputs": [
    {
     "name": "stderr",
     "output_type": "stream",
     "text": [
      "/opt/conda/lib/python3.7/site-packages/ipykernel_launcher.py:2: FutureWarning: In a future version of pandas all arguments of DataFrame.drop except for the argument 'labels' will be keyword-only\n",
      "  \n"
     ]
    },
    {
     "data": {
      "text/html": [
       "<div>\n",
       "<style scoped>\n",
       "    .dataframe tbody tr th:only-of-type {\n",
       "        vertical-align: middle;\n",
       "    }\n",
       "\n",
       "    .dataframe tbody tr th {\n",
       "        vertical-align: top;\n",
       "    }\n",
       "\n",
       "    .dataframe thead th {\n",
       "        text-align: right;\n",
       "    }\n",
       "</style>\n",
       "<table border=\"1\" class=\"dataframe\">\n",
       "  <thead>\n",
       "    <tr style=\"text-align: right;\">\n",
       "      <th></th>\n",
       "      <th>filename</th>\n",
       "      <th>level_1</th>\n",
       "    </tr>\n",
       "  </thead>\n",
       "  <tbody>\n",
       "    <tr>\n",
       "      <th>0</th>\n",
       "      <td>T1_jpg.rf.09dd015c8df7f1e58a4da0d86a576a0d.jpg</td>\n",
       "      <td>T</td>\n",
       "    </tr>\n",
       "    <tr>\n",
       "      <th>1</th>\n",
       "      <td>B14_jpg.rf.00a96613c21b30576dfc60775f3210f5.jpg</td>\n",
       "      <td>B</td>\n",
       "    </tr>\n",
       "    <tr>\n",
       "      <th>2</th>\n",
       "      <td>Z18_jpg.rf.494cf6ddd6f6bf06e7642bee59ed47fc.jpg</td>\n",
       "      <td>Z</td>\n",
       "    </tr>\n",
       "    <tr>\n",
       "      <th>3</th>\n",
       "      <td>K6_jpg.rf.001b60519df8c10ea05f45939c1dbcec.jpg</td>\n",
       "      <td>K</td>\n",
       "    </tr>\n",
       "    <tr>\n",
       "      <th>4</th>\n",
       "      <td>Y25_jpg.rf.05ac9c8e5d3581d91573dfe9eafeccd8.jpg</td>\n",
       "      <td>Y</td>\n",
       "    </tr>\n",
       "    <tr>\n",
       "      <th>...</th>\n",
       "      <td>...</td>\n",
       "      <td>...</td>\n",
       "    </tr>\n",
       "    <tr>\n",
       "      <th>67</th>\n",
       "      <td>K24_jpg.rf.edf3075a104506371537fed42e8898c9.jpg</td>\n",
       "      <td>K</td>\n",
       "    </tr>\n",
       "    <tr>\n",
       "      <th>68</th>\n",
       "      <td>V10_jpg.rf.fd2f90c398e8a881ff88dc3f64bfe37f.jpg</td>\n",
       "      <td>V</td>\n",
       "    </tr>\n",
       "    <tr>\n",
       "      <th>69</th>\n",
       "      <td>X9_jpg.rf.fb75071191324926a0a4f408a5f70958.jpg</td>\n",
       "      <td>X</td>\n",
       "    </tr>\n",
       "    <tr>\n",
       "      <th>70</th>\n",
       "      <td>G4_jpg.rf.dae4c8ef19735476ea747441239e15f7.jpg</td>\n",
       "      <td>G</td>\n",
       "    </tr>\n",
       "    <tr>\n",
       "      <th>71</th>\n",
       "      <td>N6_jpg.rf.fac8e2e7a284bfa623d163ed33dad157.jpg</td>\n",
       "      <td>N</td>\n",
       "    </tr>\n",
       "  </tbody>\n",
       "</table>\n",
       "<p>72 rows × 2 columns</p>\n",
       "</div>"
      ],
      "text/plain": [
       "                                           filename level_1\n",
       "0    T1_jpg.rf.09dd015c8df7f1e58a4da0d86a576a0d.jpg       T\n",
       "1   B14_jpg.rf.00a96613c21b30576dfc60775f3210f5.jpg       B\n",
       "2   Z18_jpg.rf.494cf6ddd6f6bf06e7642bee59ed47fc.jpg       Z\n",
       "3    K6_jpg.rf.001b60519df8c10ea05f45939c1dbcec.jpg       K\n",
       "4   Y25_jpg.rf.05ac9c8e5d3581d91573dfe9eafeccd8.jpg       Y\n",
       "..                                              ...     ...\n",
       "67  K24_jpg.rf.edf3075a104506371537fed42e8898c9.jpg       K\n",
       "68  V10_jpg.rf.fd2f90c398e8a881ff88dc3f64bfe37f.jpg       V\n",
       "69   X9_jpg.rf.fb75071191324926a0a4f408a5f70958.jpg       X\n",
       "70   G4_jpg.rf.dae4c8ef19735476ea747441239e15f7.jpg       G\n",
       "71   N6_jpg.rf.fac8e2e7a284bfa623d163ed33dad157.jpg       N\n",
       "\n",
       "[72 rows x 2 columns]"
      ]
     },
     "execution_count": 9,
     "metadata": {},
     "output_type": "execute_result"
    }
   ],
   "source": [
    "df_test.set_index('filename',inplace=True)\n",
    "test_df = df_test[df_test==1].stack().reset_index().drop(0,1)\n",
    "test_df  "
   ]
  },
  {
   "cell_type": "code",
   "execution_count": 10,
   "id": "3a4491a8",
   "metadata": {
    "execution": {
     "iopub.execute_input": "2022-04-14T18:28:02.270934Z",
     "iopub.status.busy": "2022-04-14T18:28:02.270418Z",
     "iopub.status.idle": "2022-04-14T18:28:02.286773Z",
     "shell.execute_reply": "2022-04-14T18:28:02.287282Z",
     "shell.execute_reply.started": "2022-04-14T17:08:17.393995Z"
    },
    "papermill": {
     "duration": 0.059475,
     "end_time": "2022-04-14T18:28:02.287410",
     "exception": false,
     "start_time": "2022-04-14T18:28:02.227935",
     "status": "completed"
    },
    "tags": []
   },
   "outputs": [
    {
     "data": {
      "text/html": [
       "<div>\n",
       "<style scoped>\n",
       "    .dataframe tbody tr th:only-of-type {\n",
       "        vertical-align: middle;\n",
       "    }\n",
       "\n",
       "    .dataframe tbody tr th {\n",
       "        vertical-align: top;\n",
       "    }\n",
       "\n",
       "    .dataframe thead th {\n",
       "        text-align: right;\n",
       "    }\n",
       "</style>\n",
       "<table border=\"1\" class=\"dataframe\">\n",
       "  <thead>\n",
       "    <tr style=\"text-align: right;\">\n",
       "      <th></th>\n",
       "      <th>filename</th>\n",
       "      <th>A</th>\n",
       "      <th>B</th>\n",
       "      <th>C</th>\n",
       "      <th>D</th>\n",
       "      <th>E</th>\n",
       "      <th>F</th>\n",
       "      <th>G</th>\n",
       "      <th>H</th>\n",
       "      <th>I</th>\n",
       "      <th>...</th>\n",
       "      <th>Q</th>\n",
       "      <th>R</th>\n",
       "      <th>S</th>\n",
       "      <th>T</th>\n",
       "      <th>U</th>\n",
       "      <th>V</th>\n",
       "      <th>W</th>\n",
       "      <th>X</th>\n",
       "      <th>Y</th>\n",
       "      <th>Z</th>\n",
       "    </tr>\n",
       "  </thead>\n",
       "  <tbody>\n",
       "    <tr>\n",
       "      <th>0</th>\n",
       "      <td>A4_jpg.rf.40d5cf45b26412cb16426bbff31c8054.jpg</td>\n",
       "      <td>1</td>\n",
       "      <td>0</td>\n",
       "      <td>0</td>\n",
       "      <td>0</td>\n",
       "      <td>0</td>\n",
       "      <td>0</td>\n",
       "      <td>0</td>\n",
       "      <td>0</td>\n",
       "      <td>0</td>\n",
       "      <td>...</td>\n",
       "      <td>0</td>\n",
       "      <td>0</td>\n",
       "      <td>0</td>\n",
       "      <td>0</td>\n",
       "      <td>0</td>\n",
       "      <td>0</td>\n",
       "      <td>0</td>\n",
       "      <td>0</td>\n",
       "      <td>0</td>\n",
       "      <td>0</td>\n",
       "    </tr>\n",
       "    <tr>\n",
       "      <th>1</th>\n",
       "      <td>L15_jpg.rf.40510b27aff72979c75c3f38a6344530.jpg</td>\n",
       "      <td>0</td>\n",
       "      <td>0</td>\n",
       "      <td>0</td>\n",
       "      <td>0</td>\n",
       "      <td>0</td>\n",
       "      <td>0</td>\n",
       "      <td>0</td>\n",
       "      <td>0</td>\n",
       "      <td>0</td>\n",
       "      <td>...</td>\n",
       "      <td>0</td>\n",
       "      <td>0</td>\n",
       "      <td>0</td>\n",
       "      <td>0</td>\n",
       "      <td>0</td>\n",
       "      <td>0</td>\n",
       "      <td>0</td>\n",
       "      <td>0</td>\n",
       "      <td>0</td>\n",
       "      <td>0</td>\n",
       "    </tr>\n",
       "    <tr>\n",
       "      <th>2</th>\n",
       "      <td>U10_jpg.rf.4035bf505b84632e261c68def904bd34.jpg</td>\n",
       "      <td>0</td>\n",
       "      <td>0</td>\n",
       "      <td>0</td>\n",
       "      <td>0</td>\n",
       "      <td>0</td>\n",
       "      <td>0</td>\n",
       "      <td>0</td>\n",
       "      <td>0</td>\n",
       "      <td>0</td>\n",
       "      <td>...</td>\n",
       "      <td>0</td>\n",
       "      <td>0</td>\n",
       "      <td>0</td>\n",
       "      <td>0</td>\n",
       "      <td>1</td>\n",
       "      <td>0</td>\n",
       "      <td>0</td>\n",
       "      <td>0</td>\n",
       "      <td>0</td>\n",
       "      <td>0</td>\n",
       "    </tr>\n",
       "    <tr>\n",
       "      <th>3</th>\n",
       "      <td>V13_jpg.rf.405e87b3cd7cc53cb6eb2e70a567234b.jpg</td>\n",
       "      <td>0</td>\n",
       "      <td>0</td>\n",
       "      <td>0</td>\n",
       "      <td>0</td>\n",
       "      <td>0</td>\n",
       "      <td>0</td>\n",
       "      <td>0</td>\n",
       "      <td>0</td>\n",
       "      <td>0</td>\n",
       "      <td>...</td>\n",
       "      <td>0</td>\n",
       "      <td>0</td>\n",
       "      <td>0</td>\n",
       "      <td>0</td>\n",
       "      <td>0</td>\n",
       "      <td>1</td>\n",
       "      <td>0</td>\n",
       "      <td>0</td>\n",
       "      <td>0</td>\n",
       "      <td>0</td>\n",
       "    </tr>\n",
       "    <tr>\n",
       "      <th>4</th>\n",
       "      <td>T20_jpg.rf.408396ed2e01f65f43f729a3f22bdc79.jpg</td>\n",
       "      <td>0</td>\n",
       "      <td>0</td>\n",
       "      <td>0</td>\n",
       "      <td>0</td>\n",
       "      <td>0</td>\n",
       "      <td>0</td>\n",
       "      <td>0</td>\n",
       "      <td>0</td>\n",
       "      <td>0</td>\n",
       "      <td>...</td>\n",
       "      <td>0</td>\n",
       "      <td>0</td>\n",
       "      <td>0</td>\n",
       "      <td>1</td>\n",
       "      <td>0</td>\n",
       "      <td>0</td>\n",
       "      <td>0</td>\n",
       "      <td>0</td>\n",
       "      <td>0</td>\n",
       "      <td>0</td>\n",
       "    </tr>\n",
       "    <tr>\n",
       "      <th>...</th>\n",
       "      <td>...</td>\n",
       "      <td>...</td>\n",
       "      <td>...</td>\n",
       "      <td>...</td>\n",
       "      <td>...</td>\n",
       "      <td>...</td>\n",
       "      <td>...</td>\n",
       "      <td>...</td>\n",
       "      <td>...</td>\n",
       "      <td>...</td>\n",
       "      <td>...</td>\n",
       "      <td>...</td>\n",
       "      <td>...</td>\n",
       "      <td>...</td>\n",
       "      <td>...</td>\n",
       "      <td>...</td>\n",
       "      <td>...</td>\n",
       "      <td>...</td>\n",
       "      <td>...</td>\n",
       "      <td>...</td>\n",
       "      <td>...</td>\n",
       "    </tr>\n",
       "    <tr>\n",
       "      <th>5035</th>\n",
       "      <td>G12_jpg.rf.1f204f3f028d675159c104f6ef91d0ff.jpg</td>\n",
       "      <td>0</td>\n",
       "      <td>0</td>\n",
       "      <td>0</td>\n",
       "      <td>0</td>\n",
       "      <td>0</td>\n",
       "      <td>0</td>\n",
       "      <td>1</td>\n",
       "      <td>0</td>\n",
       "      <td>0</td>\n",
       "      <td>...</td>\n",
       "      <td>0</td>\n",
       "      <td>0</td>\n",
       "      <td>0</td>\n",
       "      <td>0</td>\n",
       "      <td>0</td>\n",
       "      <td>0</td>\n",
       "      <td>0</td>\n",
       "      <td>0</td>\n",
       "      <td>0</td>\n",
       "      <td>0</td>\n",
       "    </tr>\n",
       "    <tr>\n",
       "      <th>5036</th>\n",
       "      <td>Z6_jpg.rf.1eeea63d12776a5c10c144f8cced7ad0.jpg</td>\n",
       "      <td>0</td>\n",
       "      <td>0</td>\n",
       "      <td>0</td>\n",
       "      <td>0</td>\n",
       "      <td>0</td>\n",
       "      <td>0</td>\n",
       "      <td>0</td>\n",
       "      <td>0</td>\n",
       "      <td>0</td>\n",
       "      <td>...</td>\n",
       "      <td>0</td>\n",
       "      <td>0</td>\n",
       "      <td>0</td>\n",
       "      <td>0</td>\n",
       "      <td>0</td>\n",
       "      <td>0</td>\n",
       "      <td>0</td>\n",
       "      <td>0</td>\n",
       "      <td>0</td>\n",
       "      <td>1</td>\n",
       "    </tr>\n",
       "    <tr>\n",
       "      <th>5037</th>\n",
       "      <td>T0_jpg.rf.1f1494759c3457bed9d89c40411eb72f.jpg</td>\n",
       "      <td>0</td>\n",
       "      <td>0</td>\n",
       "      <td>0</td>\n",
       "      <td>0</td>\n",
       "      <td>0</td>\n",
       "      <td>0</td>\n",
       "      <td>0</td>\n",
       "      <td>0</td>\n",
       "      <td>0</td>\n",
       "      <td>...</td>\n",
       "      <td>0</td>\n",
       "      <td>0</td>\n",
       "      <td>0</td>\n",
       "      <td>1</td>\n",
       "      <td>0</td>\n",
       "      <td>0</td>\n",
       "      <td>0</td>\n",
       "      <td>0</td>\n",
       "      <td>0</td>\n",
       "      <td>0</td>\n",
       "    </tr>\n",
       "    <tr>\n",
       "      <th>5038</th>\n",
       "      <td>X8_jpg.rf.1e9c42a804c0190bdd7910ea163592f2.jpg</td>\n",
       "      <td>0</td>\n",
       "      <td>0</td>\n",
       "      <td>0</td>\n",
       "      <td>0</td>\n",
       "      <td>0</td>\n",
       "      <td>0</td>\n",
       "      <td>0</td>\n",
       "      <td>0</td>\n",
       "      <td>0</td>\n",
       "      <td>...</td>\n",
       "      <td>0</td>\n",
       "      <td>0</td>\n",
       "      <td>0</td>\n",
       "      <td>0</td>\n",
       "      <td>0</td>\n",
       "      <td>0</td>\n",
       "      <td>0</td>\n",
       "      <td>1</td>\n",
       "      <td>0</td>\n",
       "      <td>0</td>\n",
       "    </tr>\n",
       "    <tr>\n",
       "      <th>5039</th>\n",
       "      <td>K22_jpg.rf.1d475e629008be3090ce2f2988745276.jpg</td>\n",
       "      <td>0</td>\n",
       "      <td>0</td>\n",
       "      <td>0</td>\n",
       "      <td>0</td>\n",
       "      <td>0</td>\n",
       "      <td>0</td>\n",
       "      <td>0</td>\n",
       "      <td>0</td>\n",
       "      <td>0</td>\n",
       "      <td>...</td>\n",
       "      <td>0</td>\n",
       "      <td>0</td>\n",
       "      <td>0</td>\n",
       "      <td>0</td>\n",
       "      <td>0</td>\n",
       "      <td>0</td>\n",
       "      <td>0</td>\n",
       "      <td>0</td>\n",
       "      <td>0</td>\n",
       "      <td>0</td>\n",
       "    </tr>\n",
       "  </tbody>\n",
       "</table>\n",
       "<p>5040 rows × 27 columns</p>\n",
       "</div>"
      ],
      "text/plain": [
       "                                             filename   A   B   C   D   E   F  \\\n",
       "0      A4_jpg.rf.40d5cf45b26412cb16426bbff31c8054.jpg   1   0   0   0   0   0   \n",
       "1     L15_jpg.rf.40510b27aff72979c75c3f38a6344530.jpg   0   0   0   0   0   0   \n",
       "2     U10_jpg.rf.4035bf505b84632e261c68def904bd34.jpg   0   0   0   0   0   0   \n",
       "3     V13_jpg.rf.405e87b3cd7cc53cb6eb2e70a567234b.jpg   0   0   0   0   0   0   \n",
       "4     T20_jpg.rf.408396ed2e01f65f43f729a3f22bdc79.jpg   0   0   0   0   0   0   \n",
       "...                                               ...  ..  ..  ..  ..  ..  ..   \n",
       "5035  G12_jpg.rf.1f204f3f028d675159c104f6ef91d0ff.jpg   0   0   0   0   0   0   \n",
       "5036   Z6_jpg.rf.1eeea63d12776a5c10c144f8cced7ad0.jpg   0   0   0   0   0   0   \n",
       "5037   T0_jpg.rf.1f1494759c3457bed9d89c40411eb72f.jpg   0   0   0   0   0   0   \n",
       "5038   X8_jpg.rf.1e9c42a804c0190bdd7910ea163592f2.jpg   0   0   0   0   0   0   \n",
       "5039  K22_jpg.rf.1d475e629008be3090ce2f2988745276.jpg   0   0   0   0   0   0   \n",
       "\n",
       "       G   H   I  ...   Q   R   S   T   U   V   W   X   Y   Z  \n",
       "0      0   0   0  ...   0   0   0   0   0   0   0   0   0   0  \n",
       "1      0   0   0  ...   0   0   0   0   0   0   0   0   0   0  \n",
       "2      0   0   0  ...   0   0   0   0   1   0   0   0   0   0  \n",
       "3      0   0   0  ...   0   0   0   0   0   1   0   0   0   0  \n",
       "4      0   0   0  ...   0   0   0   1   0   0   0   0   0   0  \n",
       "...   ..  ..  ..  ...  ..  ..  ..  ..  ..  ..  ..  ..  ..  ..  \n",
       "5035   1   0   0  ...   0   0   0   0   0   0   0   0   0   0  \n",
       "5036   0   0   0  ...   0   0   0   0   0   0   0   0   0   1  \n",
       "5037   0   0   0  ...   0   0   0   1   0   0   0   0   0   0  \n",
       "5038   0   0   0  ...   0   0   0   0   0   0   0   1   0   0  \n",
       "5039   0   0   0  ...   0   0   0   0   0   0   0   0   0   0  \n",
       "\n",
       "[5040 rows x 27 columns]"
      ]
     },
     "execution_count": 10,
     "metadata": {},
     "output_type": "execute_result"
    }
   ],
   "source": [
    "df_train"
   ]
  },
  {
   "cell_type": "code",
   "execution_count": 11,
   "id": "b4a87ced",
   "metadata": {
    "execution": {
     "iopub.execute_input": "2022-04-14T18:28:02.368998Z",
     "iopub.status.busy": "2022-04-14T18:28:02.368125Z",
     "iopub.status.idle": "2022-04-14T18:28:02.371121Z",
     "shell.execute_reply": "2022-04-14T18:28:02.371525Z",
     "shell.execute_reply.started": "2022-04-14T17:08:19.175455Z"
    },
    "papermill": {
     "duration": 0.046422,
     "end_time": "2022-04-14T18:28:02.371649",
     "exception": false,
     "start_time": "2022-04-14T18:28:02.325227",
     "status": "completed"
    },
    "tags": []
   },
   "outputs": [
    {
     "data": {
      "text/plain": [
       "Index(['filename', ' A', ' B', ' C', ' D', ' E', ' F', ' G', ' H', ' I', ' J',\n",
       "       ' K', ' L', ' M', ' N', ' O', ' P', ' Q', ' R', ' S', ' T', ' U', ' V',\n",
       "       ' W', ' X', ' Y', ' Z'],\n",
       "      dtype='object')"
      ]
     },
     "execution_count": 11,
     "metadata": {},
     "output_type": "execute_result"
    }
   ],
   "source": [
    "df_train.columns"
   ]
  },
  {
   "cell_type": "code",
   "execution_count": 12,
   "id": "86134f40",
   "metadata": {
    "execution": {
     "iopub.execute_input": "2022-04-14T18:28:02.453007Z",
     "iopub.status.busy": "2022-04-14T18:28:02.452239Z",
     "iopub.status.idle": "2022-04-14T18:28:02.473959Z",
     "shell.execute_reply": "2022-04-14T18:28:02.473507Z",
     "shell.execute_reply.started": "2022-04-14T17:08:21.763446Z"
    },
    "papermill": {
     "duration": 0.0639,
     "end_time": "2022-04-14T18:28:02.474065",
     "exception": false,
     "start_time": "2022-04-14T18:28:02.410165",
     "status": "completed"
    },
    "tags": []
   },
   "outputs": [
    {
     "name": "stderr",
     "output_type": "stream",
     "text": [
      "/opt/conda/lib/python3.7/site-packages/ipykernel_launcher.py:3: FutureWarning: In a future version of pandas all arguments of DataFrame.drop except for the argument 'labels' will be keyword-only\n",
      "  This is separate from the ipykernel package so we can avoid doing imports until\n"
     ]
    }
   ],
   "source": [
    "df_train.set_index('filename',inplace=True)\n",
    "\n",
    "train_df = df_train[df_train==1].stack().reset_index().drop(0,1)"
   ]
  },
  {
   "cell_type": "code",
   "execution_count": 13,
   "id": "11805a1b",
   "metadata": {
    "execution": {
     "iopub.execute_input": "2022-04-14T18:28:02.559788Z",
     "iopub.status.busy": "2022-04-14T18:28:02.559114Z",
     "iopub.status.idle": "2022-04-14T18:28:02.561839Z",
     "shell.execute_reply": "2022-04-14T18:28:02.562263Z",
     "shell.execute_reply.started": "2022-04-14T17:10:33.027190Z"
    },
    "papermill": {
     "duration": 0.049901,
     "end_time": "2022-04-14T18:28:02.562385",
     "exception": false,
     "start_time": "2022-04-14T18:28:02.512484",
     "status": "completed"
    },
    "tags": []
   },
   "outputs": [
    {
     "data": {
      "text/html": [
       "<div>\n",
       "<style scoped>\n",
       "    .dataframe tbody tr th:only-of-type {\n",
       "        vertical-align: middle;\n",
       "    }\n",
       "\n",
       "    .dataframe tbody tr th {\n",
       "        vertical-align: top;\n",
       "    }\n",
       "\n",
       "    .dataframe thead th {\n",
       "        text-align: right;\n",
       "    }\n",
       "</style>\n",
       "<table border=\"1\" class=\"dataframe\">\n",
       "  <thead>\n",
       "    <tr style=\"text-align: right;\">\n",
       "      <th></th>\n",
       "      <th>filename</th>\n",
       "      <th>level_1</th>\n",
       "    </tr>\n",
       "  </thead>\n",
       "  <tbody>\n",
       "    <tr>\n",
       "      <th>0</th>\n",
       "      <td>A4_jpg.rf.40d5cf45b26412cb16426bbff31c8054.jpg</td>\n",
       "      <td>A</td>\n",
       "    </tr>\n",
       "    <tr>\n",
       "      <th>1</th>\n",
       "      <td>L15_jpg.rf.40510b27aff72979c75c3f38a6344530.jpg</td>\n",
       "      <td>L</td>\n",
       "    </tr>\n",
       "    <tr>\n",
       "      <th>2</th>\n",
       "      <td>U10_jpg.rf.4035bf505b84632e261c68def904bd34.jpg</td>\n",
       "      <td>U</td>\n",
       "    </tr>\n",
       "    <tr>\n",
       "      <th>3</th>\n",
       "      <td>V13_jpg.rf.405e87b3cd7cc53cb6eb2e70a567234b.jpg</td>\n",
       "      <td>V</td>\n",
       "    </tr>\n",
       "    <tr>\n",
       "      <th>4</th>\n",
       "      <td>T20_jpg.rf.408396ed2e01f65f43f729a3f22bdc79.jpg</td>\n",
       "      <td>T</td>\n",
       "    </tr>\n",
       "    <tr>\n",
       "      <th>...</th>\n",
       "      <td>...</td>\n",
       "      <td>...</td>\n",
       "    </tr>\n",
       "    <tr>\n",
       "      <th>5035</th>\n",
       "      <td>G12_jpg.rf.1f204f3f028d675159c104f6ef91d0ff.jpg</td>\n",
       "      <td>G</td>\n",
       "    </tr>\n",
       "    <tr>\n",
       "      <th>5036</th>\n",
       "      <td>Z6_jpg.rf.1eeea63d12776a5c10c144f8cced7ad0.jpg</td>\n",
       "      <td>Z</td>\n",
       "    </tr>\n",
       "    <tr>\n",
       "      <th>5037</th>\n",
       "      <td>T0_jpg.rf.1f1494759c3457bed9d89c40411eb72f.jpg</td>\n",
       "      <td>T</td>\n",
       "    </tr>\n",
       "    <tr>\n",
       "      <th>5038</th>\n",
       "      <td>X8_jpg.rf.1e9c42a804c0190bdd7910ea163592f2.jpg</td>\n",
       "      <td>X</td>\n",
       "    </tr>\n",
       "    <tr>\n",
       "      <th>5039</th>\n",
       "      <td>K22_jpg.rf.1d475e629008be3090ce2f2988745276.jpg</td>\n",
       "      <td>K</td>\n",
       "    </tr>\n",
       "  </tbody>\n",
       "</table>\n",
       "<p>5040 rows × 2 columns</p>\n",
       "</div>"
      ],
      "text/plain": [
       "                                             filename level_1\n",
       "0      A4_jpg.rf.40d5cf45b26412cb16426bbff31c8054.jpg       A\n",
       "1     L15_jpg.rf.40510b27aff72979c75c3f38a6344530.jpg       L\n",
       "2     U10_jpg.rf.4035bf505b84632e261c68def904bd34.jpg       U\n",
       "3     V13_jpg.rf.405e87b3cd7cc53cb6eb2e70a567234b.jpg       V\n",
       "4     T20_jpg.rf.408396ed2e01f65f43f729a3f22bdc79.jpg       T\n",
       "...                                               ...     ...\n",
       "5035  G12_jpg.rf.1f204f3f028d675159c104f6ef91d0ff.jpg       G\n",
       "5036   Z6_jpg.rf.1eeea63d12776a5c10c144f8cced7ad0.jpg       Z\n",
       "5037   T0_jpg.rf.1f1494759c3457bed9d89c40411eb72f.jpg       T\n",
       "5038   X8_jpg.rf.1e9c42a804c0190bdd7910ea163592f2.jpg       X\n",
       "5039  K22_jpg.rf.1d475e629008be3090ce2f2988745276.jpg       K\n",
       "\n",
       "[5040 rows x 2 columns]"
      ]
     },
     "execution_count": 13,
     "metadata": {},
     "output_type": "execute_result"
    }
   ],
   "source": [
    "train_df"
   ]
  },
  {
   "cell_type": "code",
   "execution_count": 14,
   "id": "e8bad04a",
   "metadata": {
    "execution": {
     "iopub.execute_input": "2022-04-14T18:28:02.648850Z",
     "iopub.status.busy": "2022-04-14T18:28:02.648084Z",
     "iopub.status.idle": "2022-04-14T18:28:02.655780Z",
     "shell.execute_reply": "2022-04-14T18:28:02.655208Z",
     "shell.execute_reply.started": "2022-04-14T17:10:09.965922Z"
    },
    "papermill": {
     "duration": 0.054548,
     "end_time": "2022-04-14T18:28:02.655928",
     "exception": false,
     "start_time": "2022-04-14T18:28:02.601380",
     "status": "completed"
    },
    "tags": []
   },
   "outputs": [
    {
     "name": "stderr",
     "output_type": "stream",
     "text": [
      "/opt/conda/lib/python3.7/site-packages/ipykernel_launcher.py:3: FutureWarning: In a future version of pandas all arguments of DataFrame.drop except for the argument 'labels' will be keyword-only\n",
      "  This is separate from the ipykernel package so we can avoid doing imports until\n"
     ]
    }
   ],
   "source": [
    "df_valid.set_index('filename',inplace=True)\n",
    "\n",
    "valid_df = df_valid[df_valid==1].stack().reset_index().drop(0,1)"
   ]
  },
  {
   "cell_type": "code",
   "execution_count": 15,
   "id": "3a3a585f",
   "metadata": {
    "execution": {
     "iopub.execute_input": "2022-04-14T18:28:02.744119Z",
     "iopub.status.busy": "2022-04-14T18:28:02.743434Z",
     "iopub.status.idle": "2022-04-14T18:28:02.746539Z",
     "shell.execute_reply": "2022-04-14T18:28:02.747033Z",
     "shell.execute_reply.started": "2022-04-14T17:11:38.600660Z"
    },
    "papermill": {
     "duration": 0.051119,
     "end_time": "2022-04-14T18:28:02.747153",
     "exception": false,
     "start_time": "2022-04-14T18:28:02.696034",
     "status": "completed"
    },
    "tags": []
   },
   "outputs": [
    {
     "data": {
      "text/html": [
       "<div>\n",
       "<style scoped>\n",
       "    .dataframe tbody tr th:only-of-type {\n",
       "        vertical-align: middle;\n",
       "    }\n",
       "\n",
       "    .dataframe tbody tr th {\n",
       "        vertical-align: top;\n",
       "    }\n",
       "\n",
       "    .dataframe thead th {\n",
       "        text-align: right;\n",
       "    }\n",
       "</style>\n",
       "<table border=\"1\" class=\"dataframe\">\n",
       "  <thead>\n",
       "    <tr style=\"text-align: right;\">\n",
       "      <th></th>\n",
       "      <th>filename</th>\n",
       "      <th>level_1</th>\n",
       "    </tr>\n",
       "  </thead>\n",
       "  <tbody>\n",
       "    <tr>\n",
       "      <th>0</th>\n",
       "      <td>T12_jpg.rf.0356f76640d1ec09e2de9944dfc62312.jpg</td>\n",
       "      <td>T</td>\n",
       "    </tr>\n",
       "    <tr>\n",
       "      <th>1</th>\n",
       "      <td>F0_jpg.rf.08eb93bc001ff6cbd529ac5b9afee9f1.jpg</td>\n",
       "      <td>F</td>\n",
       "    </tr>\n",
       "    <tr>\n",
       "      <th>2</th>\n",
       "      <td>F11_jpg.rf.0ebc1e7c7b5808db54ce5b04bcf2d1eb.jpg</td>\n",
       "      <td>F</td>\n",
       "    </tr>\n",
       "    <tr>\n",
       "      <th>3</th>\n",
       "      <td>A3_jpg.rf.095bd5fcce4d1ec5e243f55c0bc4369e.jpg</td>\n",
       "      <td>A</td>\n",
       "    </tr>\n",
       "    <tr>\n",
       "      <th>4</th>\n",
       "      <td>B23_jpg.rf.03cd8f3fb693975903efaaeea415df39.jpg</td>\n",
       "      <td>B</td>\n",
       "    </tr>\n",
       "    <tr>\n",
       "      <th>...</th>\n",
       "      <td>...</td>\n",
       "      <td>...</td>\n",
       "    </tr>\n",
       "    <tr>\n",
       "      <th>139</th>\n",
       "      <td>W22_jpg.rf.fae02c5e09b2120229cac632fc79d67c.jpg</td>\n",
       "      <td>W</td>\n",
       "    </tr>\n",
       "    <tr>\n",
       "      <th>140</th>\n",
       "      <td>N18_jpg.rf.f80619bffc6fefe65a7062b1c2916a13.jpg</td>\n",
       "      <td>N</td>\n",
       "    </tr>\n",
       "    <tr>\n",
       "      <th>141</th>\n",
       "      <td>M26_jpg.rf.fe7f30e17cf04d49930d50f8861d5df5.jpg</td>\n",
       "      <td>M</td>\n",
       "    </tr>\n",
       "    <tr>\n",
       "      <th>142</th>\n",
       "      <td>O22_jpg.rf.fffd96f226ac6f7713a4572503354118.jpg</td>\n",
       "      <td>O</td>\n",
       "    </tr>\n",
       "    <tr>\n",
       "      <th>143</th>\n",
       "      <td>Z2_jpg.rf.c47d5db1c2d3f2aeaf5109902d5c2669.jpg</td>\n",
       "      <td>Z</td>\n",
       "    </tr>\n",
       "  </tbody>\n",
       "</table>\n",
       "<p>144 rows × 2 columns</p>\n",
       "</div>"
      ],
      "text/plain": [
       "                                            filename level_1\n",
       "0    T12_jpg.rf.0356f76640d1ec09e2de9944dfc62312.jpg       T\n",
       "1     F0_jpg.rf.08eb93bc001ff6cbd529ac5b9afee9f1.jpg       F\n",
       "2    F11_jpg.rf.0ebc1e7c7b5808db54ce5b04bcf2d1eb.jpg       F\n",
       "3     A3_jpg.rf.095bd5fcce4d1ec5e243f55c0bc4369e.jpg       A\n",
       "4    B23_jpg.rf.03cd8f3fb693975903efaaeea415df39.jpg       B\n",
       "..                                               ...     ...\n",
       "139  W22_jpg.rf.fae02c5e09b2120229cac632fc79d67c.jpg       W\n",
       "140  N18_jpg.rf.f80619bffc6fefe65a7062b1c2916a13.jpg       N\n",
       "141  M26_jpg.rf.fe7f30e17cf04d49930d50f8861d5df5.jpg       M\n",
       "142  O22_jpg.rf.fffd96f226ac6f7713a4572503354118.jpg       O\n",
       "143   Z2_jpg.rf.c47d5db1c2d3f2aeaf5109902d5c2669.jpg       Z\n",
       "\n",
       "[144 rows x 2 columns]"
      ]
     },
     "execution_count": 15,
     "metadata": {},
     "output_type": "execute_result"
    }
   ],
   "source": [
    "valid_df"
   ]
  },
  {
   "cell_type": "code",
   "execution_count": 16,
   "id": "0dfb494a",
   "metadata": {
    "execution": {
     "iopub.execute_input": "2022-04-14T18:28:02.833045Z",
     "iopub.status.busy": "2022-04-14T18:28:02.831512Z",
     "iopub.status.idle": "2022-04-14T18:28:02.833655Z",
     "shell.execute_reply": "2022-04-14T18:28:02.834071Z",
     "shell.execute_reply.started": "2022-04-14T17:13:43.110052Z"
    },
    "id": "zxVxS1M-BdlJ",
    "papermill": {
     "duration": 0.047293,
     "end_time": "2022-04-14T18:28:02.834205",
     "exception": false,
     "start_time": "2022-04-14T18:28:02.786912",
     "status": "completed"
    },
    "tags": []
   },
   "outputs": [],
   "source": [
    "image_gen = ImageDataGenerator(rescale=1/255.,validation_split=0.1)"
   ]
  },
  {
   "cell_type": "code",
   "execution_count": 17,
   "id": "8179764e",
   "metadata": {
    "execution": {
     "iopub.execute_input": "2022-04-14T18:28:02.919395Z",
     "iopub.status.busy": "2022-04-14T18:28:02.918711Z",
     "iopub.status.idle": "2022-04-14T18:28:12.905100Z",
     "shell.execute_reply": "2022-04-14T18:28:12.905512Z",
     "shell.execute_reply.started": "2022-04-14T17:13:43.810963Z"
    },
    "id": "LJJ5U65ZBfiJ",
    "outputId": "e9c1d38b-67f8-4e23-f462-53e9b788fdf6",
    "papermill": {
     "duration": 10.031289,
     "end_time": "2022-04-14T18:28:12.905682",
     "exception": false,
     "start_time": "2022-04-14T18:28:02.874393",
     "status": "completed"
    },
    "tags": []
   },
   "outputs": [
    {
     "name": "stdout",
     "output_type": "stream",
     "text": [
      "Found 4536 validated image filenames belonging to 26 classes.\n"
     ]
    }
   ],
   "source": [
    "train_gen = image_gen.flow_from_dataframe(\n",
    "    dataframe = train_df,\n",
    "    directory = train_data,\n",
    "    x_col = \"filename\",\n",
    "    y_col = 'level_1',\n",
    "    target_size=(224,224),\n",
    "    class_mode='categorical',\n",
    "    color_mode='rgb',\n",
    "    shuffle=True,\n",
    "    batch_size=32,\n",
    "    seed=0,\n",
    "    subset='training'\n",
    "    )"
   ]
  },
  {
   "cell_type": "code",
   "execution_count": 18,
   "id": "bb007bb4",
   "metadata": {
    "execution": {
     "iopub.execute_input": "2022-04-14T18:28:13.004910Z",
     "iopub.status.busy": "2022-04-14T18:28:13.004279Z",
     "iopub.status.idle": "2022-04-14T18:28:16.014546Z",
     "shell.execute_reply": "2022-04-14T18:28:16.013649Z",
     "shell.execute_reply.started": "2022-04-14T17:13:53.541813Z"
    },
    "id": "3QZYu1EpBia1",
    "outputId": "a9322bee-e434-4ef9-88ce-923da0a9c6a8",
    "papermill": {
     "duration": 3.069298,
     "end_time": "2022-04-14T18:28:16.014707",
     "exception": false,
     "start_time": "2022-04-14T18:28:12.945409",
     "status": "completed"
    },
    "tags": []
   },
   "outputs": [
    {
     "name": "stdout",
     "output_type": "stream",
     "text": [
      "Found 504 validated image filenames belonging to 26 classes.\n"
     ]
    }
   ],
   "source": [
    "val_gen = image_gen.flow_from_dataframe(\n",
    "    dataframe = train_df,\n",
    "    directory = train_data,\n",
    "    x_col = \"filename\",\n",
    "    y_col = 'level_1',\n",
    "    target_size=(224,224),\n",
    "    class_mode='categorical',\n",
    "    color_mode='rgb',\n",
    "    shuffle=True,\n",
    "    batch_size=32,\n",
    "    seed=0,\n",
    "    subset='validation'\n",
    "    )"
   ]
  },
  {
   "cell_type": "code",
   "execution_count": 19,
   "id": "12549d16",
   "metadata": {
    "execution": {
     "iopub.execute_input": "2022-04-14T18:28:16.109304Z",
     "iopub.status.busy": "2022-04-14T18:28:16.108532Z",
     "iopub.status.idle": "2022-04-14T18:28:16.111406Z",
     "shell.execute_reply": "2022-04-14T18:28:16.111843Z",
     "shell.execute_reply.started": "2022-04-14T17:14:13.529675Z"
    },
    "id": "TxqG1enyBjJO",
    "outputId": "c40f658c-6d3e-4911-e5ff-d4e3239e4da0",
    "papermill": {
     "duration": 0.052159,
     "end_time": "2022-04-14T18:28:16.111982",
     "exception": false,
     "start_time": "2022-04-14T18:28:16.059823",
     "status": "completed"
    },
    "tags": []
   },
   "outputs": [
    {
     "data": {
      "text/plain": [
       "{' A': 0,\n",
       " ' B': 1,\n",
       " ' C': 2,\n",
       " ' D': 3,\n",
       " ' E': 4,\n",
       " ' F': 5,\n",
       " ' G': 6,\n",
       " ' H': 7,\n",
       " ' I': 8,\n",
       " ' J': 9,\n",
       " ' K': 10,\n",
       " ' L': 11,\n",
       " ' M': 12,\n",
       " ' N': 13,\n",
       " ' O': 14,\n",
       " ' P': 15,\n",
       " ' Q': 16,\n",
       " ' R': 17,\n",
       " ' S': 18,\n",
       " ' T': 19,\n",
       " ' U': 20,\n",
       " ' V': 21,\n",
       " ' W': 22,\n",
       " ' X': 23,\n",
       " ' Y': 24,\n",
       " ' Z': 25}"
      ]
     },
     "execution_count": 19,
     "metadata": {},
     "output_type": "execute_result"
    }
   ],
   "source": [
    "train_gen.class_indices"
   ]
  },
  {
   "cell_type": "code",
   "execution_count": 20,
   "id": "4bfc9b86",
   "metadata": {
    "execution": {
     "iopub.execute_input": "2022-04-14T18:28:16.206059Z",
     "iopub.status.busy": "2022-04-14T18:28:16.205469Z",
     "iopub.status.idle": "2022-04-14T18:28:16.360792Z",
     "shell.execute_reply": "2022-04-14T18:28:16.360211Z",
     "shell.execute_reply.started": "2022-04-14T17:17:18.732663Z"
    },
    "papermill": {
     "duration": 0.204928,
     "end_time": "2022-04-14T18:28:16.360963",
     "exception": false,
     "start_time": "2022-04-14T18:28:16.156035",
     "status": "completed"
    },
    "tags": []
   },
   "outputs": [
    {
     "name": "stdout",
     "output_type": "stream",
     "text": [
      "Found 72 validated image filenames belonging to 24 classes.\n"
     ]
    }
   ],
   "source": [
    "test_gen = image_gen.flow_from_dataframe(\n",
    "                dataframe = test_df,\n",
    "                directory = test_data,\n",
    "                x_col = \"filename\",\n",
    "                y_col = 'level_1',\n",
    "                target_size=(224,224),\n",
    "                class_mode='categorical',\n",
    "                color_mode='rgb'\n",
    "            )"
   ]
  },
  {
   "cell_type": "code",
   "execution_count": 21,
   "id": "78f3166d",
   "metadata": {
    "execution": {
     "iopub.execute_input": "2022-04-14T18:28:16.447947Z",
     "iopub.status.busy": "2022-04-14T18:28:16.447325Z",
     "iopub.status.idle": "2022-04-14T18:28:16.470017Z",
     "shell.execute_reply": "2022-04-14T18:28:16.469599Z",
     "shell.execute_reply.started": "2022-04-14T17:18:17.579406Z"
    },
    "papermill": {
     "duration": 0.067415,
     "end_time": "2022-04-14T18:28:16.470130",
     "exception": false,
     "start_time": "2022-04-14T18:28:16.402715",
     "status": "completed"
    },
    "tags": []
   },
   "outputs": [],
   "source": [
    "from keras.preprocessing import image\n",
    "image = image.load_img(\"../input/asl-aug-roboflow-multiclass/train/A0_jpg.rf.09275c31b7ba1346a33dc1729ce5a477.jpg\")\n",
    "image = tf.keras.utils.img_to_array(image)\n",
    "image = np.expand_dims(image, axis=0)\n"
   ]
  },
  {
   "cell_type": "code",
   "execution_count": 22,
   "id": "f3854c4e",
   "metadata": {
    "execution": {
     "iopub.execute_input": "2022-04-14T18:28:16.558074Z",
     "iopub.status.busy": "2022-04-14T18:28:16.556731Z",
     "iopub.status.idle": "2022-04-14T18:28:16.560014Z",
     "shell.execute_reply": "2022-04-14T18:28:16.560437Z",
     "shell.execute_reply.started": "2022-04-14T15:17:22.216922Z"
    },
    "papermill": {
     "duration": 0.049284,
     "end_time": "2022-04-14T18:28:16.560561",
     "exception": false,
     "start_time": "2022-04-14T18:28:16.511277",
     "status": "completed"
    },
    "tags": []
   },
   "outputs": [],
   "source": [
    "# %matplotlib inline\n",
    "\n",
    "# import matplotlib.pyplot as plt\n",
    "# import matplotlib.image as mpimg\n",
    "\n",
    "# fig, ax = plt.subplots(nrows=1, ncols=5, figsize=(12,4))\n",
    "\n",
    "# # pic_index = 2\n",
    "# txt_files = os.listdir(\"../input/asl-alphabet/asl_alphabet_test/asl_alphabet_test\")\n",
    "# next_rock = [os.path.join(\"../input/asl-alphabet/asl_alphabet_test/asl_alphabet_test\", fname) \n",
    "#                 for fname in txt_files]\n",
    "# # next_paper = [os.path.join(\"../input/asl-alphabet/asl_alphabet_test/asl_alphabet_test\", fname) \n",
    "# #                 for fname in paper_files[pic_index-2:pic_index]]\n",
    "# # next_scissors = [os.path.join(scissors_dir, fname) \n",
    "# #                 for fname in scissors_files[pic_index-2:pic_index]]\n",
    "\n",
    "# for i, img_path in enumerate(next_rock):\n",
    "#   img = mpimg.imread(img_path)\n",
    "#   plt.imshow(img)\n",
    "#   plt.axis('Off')\n",
    "#   plt.show()"
   ]
  },
  {
   "cell_type": "code",
   "execution_count": 23,
   "id": "13fe867c",
   "metadata": {
    "execution": {
     "iopub.execute_input": "2022-04-14T18:28:16.648572Z",
     "iopub.status.busy": "2022-04-14T18:28:16.647900Z",
     "iopub.status.idle": "2022-04-14T18:28:16.650443Z",
     "shell.execute_reply": "2022-04-14T18:28:16.650018Z",
     "shell.execute_reply.started": "2022-04-14T15:16:53.316295Z"
    },
    "papermill": {
     "duration": 0.046831,
     "end_time": "2022-04-14T18:28:16.650544",
     "exception": false,
     "start_time": "2022-04-14T18:28:16.603713",
     "status": "completed"
    },
    "tags": []
   },
   "outputs": [],
   "source": [
    "# test_data = \"../input/asl-alphabet/asl_alphabet_test/asl_alphabet_test/\""
   ]
  },
  {
   "cell_type": "code",
   "execution_count": 24,
   "id": "783e369c",
   "metadata": {
    "execution": {
     "iopub.execute_input": "2022-04-14T18:28:16.736267Z",
     "iopub.status.busy": "2022-04-14T18:28:16.735488Z",
     "iopub.status.idle": "2022-04-14T18:28:16.737932Z",
     "shell.execute_reply": "2022-04-14T18:28:16.737501Z",
     "shell.execute_reply.started": "2022-03-07T16:06:24.743084Z"
    },
    "papermill": {
     "duration": 0.046577,
     "end_time": "2022-04-14T18:28:16.738035",
     "exception": false,
     "start_time": "2022-04-14T18:28:16.691458",
     "status": "completed"
    },
    "tags": []
   },
   "outputs": [],
   "source": [
    "# aug_iter = train_gen.flow_from_directory(train_data,batch_size=1)\n",
    "\n",
    "# # generate samples and plot\n",
    "\n",
    "# fig, ax = plt.subplots(nrows=1, ncols=5, figsize=(12,4))\n",
    "\n",
    "# # generate batch of images\n",
    "# for i in range(5):\n",
    "\n",
    "#     # convert to unsigned integers\n",
    "#     image = next(aug_iter)[0]\n",
    "\n",
    "#     # plot image\n",
    "#     ax[i].imshow(image)\n",
    "#     ax[i].axis('off')"
   ]
  },
  {
   "cell_type": "markdown",
   "id": "df7c45ea",
   "metadata": {
    "id": "91g7mZprKg0X",
    "papermill": {
     "duration": 0.040893,
     "end_time": "2022-04-14T18:28:16.820040",
     "exception": false,
     "start_time": "2022-04-14T18:28:16.779147",
     "status": "completed"
    },
    "tags": []
   },
   "source": [
    "# Creating model"
   ]
  },
  {
   "cell_type": "code",
   "execution_count": 25,
   "id": "a8b530ea",
   "metadata": {
    "execution": {
     "iopub.execute_input": "2022-04-14T18:28:16.908065Z",
     "iopub.status.busy": "2022-04-14T18:28:16.907248Z",
     "iopub.status.idle": "2022-04-14T18:28:16.910406Z",
     "shell.execute_reply": "2022-04-14T18:28:16.910758Z",
     "shell.execute_reply.started": "2022-04-14T17:18:24.537835Z"
    },
    "id": "oxl-IxwdGYrq",
    "papermill": {
     "duration": 0.048763,
     "end_time": "2022-04-14T18:28:16.910907",
     "exception": false,
     "start_time": "2022-04-14T18:28:16.862144",
     "status": "completed"
    },
    "tags": []
   },
   "outputs": [],
   "source": [
    "from tensorflow.keras.models import Sequential, Model\n",
    "from tensorflow.keras.layers import Conv2D,MaxPooling2D,Dense,Flatten,Dropout, Add, GlobalAveragePooling2D\n",
    "from tensorflow.keras.layers import BatchNormalization, DepthwiseConv2D"
   ]
  },
  {
   "cell_type": "code",
   "execution_count": 26,
   "id": "bed1f920",
   "metadata": {
    "execution": {
     "iopub.execute_input": "2022-04-14T18:28:17.002061Z",
     "iopub.status.busy": "2022-04-14T18:28:16.999174Z",
     "iopub.status.idle": "2022-04-14T18:28:19.427805Z",
     "shell.execute_reply": "2022-04-14T18:28:19.428918Z",
     "shell.execute_reply.started": "2022-04-14T17:20:12.412596Z"
    },
    "papermill": {
     "duration": 2.477751,
     "end_time": "2022-04-14T18:28:19.429154",
     "exception": false,
     "start_time": "2022-04-14T18:28:16.951403",
     "status": "completed"
    },
    "tags": []
   },
   "outputs": [
    {
     "name": "stderr",
     "output_type": "stream",
     "text": [
      "2022-04-14 18:28:17.094114: I tensorflow/stream_executor/cuda/cuda_gpu_executor.cc:937] successful NUMA node read from SysFS had negative value (-1), but there must be at least one NUMA node, so returning NUMA node zero\n",
      "2022-04-14 18:28:17.175836: I tensorflow/stream_executor/cuda/cuda_gpu_executor.cc:937] successful NUMA node read from SysFS had negative value (-1), but there must be at least one NUMA node, so returning NUMA node zero\n",
      "2022-04-14 18:28:17.176544: I tensorflow/stream_executor/cuda/cuda_gpu_executor.cc:937] successful NUMA node read from SysFS had negative value (-1), but there must be at least one NUMA node, so returning NUMA node zero\n",
      "2022-04-14 18:28:17.177724: I tensorflow/core/platform/cpu_feature_guard.cc:142] This TensorFlow binary is optimized with oneAPI Deep Neural Network Library (oneDNN) to use the following CPU instructions in performance-critical operations:  AVX2 AVX512F FMA\n",
      "To enable them in other operations, rebuild TensorFlow with the appropriate compiler flags.\n",
      "2022-04-14 18:28:17.178895: I tensorflow/stream_executor/cuda/cuda_gpu_executor.cc:937] successful NUMA node read from SysFS had negative value (-1), but there must be at least one NUMA node, so returning NUMA "
     ]
    },
    {
     "name": "stdout",
     "output_type": "stream",
     "text": [
      "Model: \"sequential\"\n",
      "_________________________________________________________________\n",
      "Layer (type)                 Output Shape              Param #   \n",
      "=================================================================\n",
      "conv2d (Conv2D)              (None, 224, 224, 64)      15616     \n",
      "_________________________________________________________________\n",
      "max_pooling2d (MaxPooling2D) (None, 112, 112, 64)      0         \n",
      "_________________________________________________________________\n",
      "conv2d_1 (Conv2D)            (None, 112, 112, 64)      331840    \n",
      "_________________________________________________________________\n",
      "max_pooling2d_1 (MaxPooling2 (None, 56, 56, 64)        0         \n",
      "_________________________________________________________________\n",
      "conv2d_2 (Conv2D)            (None, 56, 56, 64)        331840    \n",
      "_________________________________________________________________\n",
      "max_pooling2d_2 (MaxPooling2 (None, 28, 28, 64)        0         \n",
      "_________________________________________________________________\n",
      "conv2d_3 (Conv2D)            (None, 28, 28, 64)        331840    \n",
      "_________________________________________________________________\n",
      "max_pooling2d_3 (MaxPooling2 (None, 14, 14, 64)        0         \n",
      "_________________________________________________________________\n",
      "batch_normalization (BatchNo (None, 14, 14, 64)        256       \n",
      "_________________________________________________________________\n",
      "flatten (Flatten)            (None, 12544)             0         \n",
      "_________________________________________________________________\n",
      "dense (Dense)                (None, 128)               1605760   \n",
      "_________________________________________________________________\n",
      "dense_1 (Dense)              (None, 128)               16512     \n",
      "_________________________________________________________________\n",
      "dense_2 (Dense)              (None, 128)               16512     \n",
      "_________________________________________________________________\n",
      "dense_3 (Dense)              (None, 128)               16512     \n",
      "_________________________________________________________________\n",
      "dropout (Dropout)            (None, 128)               0         \n",
      "_________________________________________________________________\n",
      "dense_4 (Dense)              (None, 26)                3354      \n",
      "=================================================================\n",
      "Total params: 2,670,042\n",
      "Trainable params: 2,669,914\n",
      "Non-trainable params: 128\n",
      "_________________________________________________________________\n"
     ]
    },
    {
     "name": "stderr",
     "output_type": "stream",
     "text": [
      "node zero\n",
      "2022-04-14 18:28:17.179585: I tensorflow/stream_executor/cuda/cuda_gpu_executor.cc:937] successful NUMA node read from SysFS had negative value (-1), but there must be at least one NUMA node, so returning NUMA node zero\n",
      "2022-04-14 18:28:17.180217: I tensorflow/stream_executor/cuda/cuda_gpu_executor.cc:937] successful NUMA node read from SysFS had negative value (-1), but there must be at least one NUMA node, so returning NUMA node zero\n",
      "2022-04-14 18:28:18.878216: I tensorflow/stream_executor/cuda/cuda_gpu_executor.cc:937] successful NUMA node read from SysFS had negative value (-1), but there must be at least one NUMA node, so returning NUMA node zero\n",
      "2022-04-14 18:28:18.879116: I tensorflow/stream_executor/cuda/cuda_gpu_executor.cc:937] successful NUMA node read from SysFS had negative value (-1), but there must be at least one NUMA node, so returning NUMA node zero\n",
      "2022-04-14 18:28:18.879763: I tensorflow/stream_executor/cuda/cuda_gpu_executor.cc:937] successful NUMA node read from SysFS had negative value (-1), but there must be at least one NUMA node, so returning NUMA node zero\n",
      "2022-04-14 18:28:18.880378: I tensorflow/core/common_runtime/gpu/gpu_device.cc:1510] Created device /job:localhost/replica:0/task:0/device:GPU:0 with 15403 MB memory:  -> device: 0, name: Tesla P100-PCIE-16GB, pci bus id: 0000:00:04.0, compute capability: 6.0\n"
     ]
    }
   ],
   "source": [
    "model = models.Sequential()\n",
    "\n",
    "model.add(layers.Conv2D(filters=64,\n",
    "                        kernel_size=9,\n",
    "                        padding='same',\n",
    "                        activation='relu',\n",
    "                        input_shape=(224, 224, 3)))\n",
    "model.add(layers.MaxPooling2D(pool_size=2,\n",
    "                              padding='same'))\n",
    "model.add(layers.Conv2D(filters=64,\n",
    "                        kernel_size=9,\n",
    "                        padding='same',\n",
    "                        activation='relu'))\n",
    "model.add(layers.MaxPooling2D(pool_size=2,\n",
    "                              padding='same'))\n",
    "model.add(layers.Conv2D(filters=64,\n",
    "                        kernel_size=9,\n",
    "                        padding='same',\n",
    "                        activation='relu'))\n",
    "model.add(layers.MaxPooling2D(pool_size=2,\n",
    "                              padding='same'))\n",
    "model.add(layers.Conv2D(filters=64,\n",
    "                        kernel_size=9,\n",
    "                        padding='same',\n",
    "                        activation='relu'))\n",
    "model.add(layers.MaxPooling2D(pool_size=2,\n",
    "                              padding='same'))\n",
    "model.add(BatchNormalization())\n",
    "\n",
    "model.add(layers.Flatten())\n",
    "model.add(layers.Dense(units=128,\n",
    "                        activation='relu'))\n",
    "model.add(layers.Dense(units=128,\n",
    "                        activation='relu'))\n",
    "model.add(layers.Dense(units=128,\n",
    "                        activation='relu'))\n",
    "model.add(layers.Dense(units=128,\n",
    "                        activation='relu'))\n",
    "model.add(Dropout(0.5))\n",
    "model.add(layers.Dense(26, activation='softmax'))\n",
    "\n",
    "model.summary()"
   ]
  },
  {
   "cell_type": "code",
   "execution_count": 27,
   "id": "f92fbd7c",
   "metadata": {
    "execution": {
     "iopub.execute_input": "2022-04-14T18:28:19.582149Z",
     "iopub.status.busy": "2022-04-14T18:28:19.581301Z",
     "iopub.status.idle": "2022-04-14T18:28:19.583496Z",
     "shell.execute_reply": "2022-04-14T18:28:19.582846Z",
     "shell.execute_reply.started": "2022-04-14T17:20:13.390581Z"
    },
    "papermill": {
     "duration": 0.080938,
     "end_time": "2022-04-14T18:28:19.583646",
     "exception": false,
     "start_time": "2022-04-14T18:28:19.502708",
     "status": "completed"
    },
    "tags": []
   },
   "outputs": [],
   "source": [
    "target_dims = (224, 224, 3)"
   ]
  },
  {
   "cell_type": "code",
   "execution_count": 28,
   "id": "90c49ebb",
   "metadata": {
    "execution": {
     "iopub.execute_input": "2022-04-14T18:28:19.693449Z",
     "iopub.status.busy": "2022-04-14T18:28:19.692689Z",
     "iopub.status.idle": "2022-04-14T18:28:19.701334Z",
     "shell.execute_reply": "2022-04-14T18:28:19.700932Z",
     "shell.execute_reply.started": "2022-04-14T17:20:14.240608Z"
    },
    "id": "2gm2EYg27oPY",
    "papermill": {
     "duration": 0.056275,
     "end_time": "2022-04-14T18:28:19.701443",
     "exception": false,
     "start_time": "2022-04-14T18:28:19.645168",
     "status": "completed"
    },
    "tags": []
   },
   "outputs": [],
   "source": [
    "model.compile(optimizer='adam',\n",
    "              loss='categorical_crossentropy',\n",
    "              metrics=['accuracy'])"
   ]
  },
  {
   "cell_type": "code",
   "execution_count": 29,
   "id": "f3c21494",
   "metadata": {
    "execution": {
     "iopub.execute_input": "2022-04-14T18:28:19.788994Z",
     "iopub.status.busy": "2022-04-14T18:28:19.788461Z",
     "iopub.status.idle": "2022-04-14T18:28:19.792083Z",
     "shell.execute_reply": "2022-04-14T18:28:19.791640Z",
     "shell.execute_reply.started": "2022-04-14T17:20:14.942147Z"
    },
    "id": "F7zhSWnu7tnA",
    "papermill": {
     "duration": 0.049201,
     "end_time": "2022-04-14T18:28:19.792195",
     "exception": false,
     "start_time": "2022-04-14T18:28:19.742994",
     "status": "completed"
    },
    "tags": []
   },
   "outputs": [],
   "source": [
    "early_stopping_callback = EarlyStopping(monitor='val_loss',\n",
    "                                        patience=5,\n",
    "                                        mode='min',\n",
    "                                        restore_best_weights=True)"
   ]
  },
  {
   "cell_type": "markdown",
   "id": "b8f89243",
   "metadata": {
    "id": "aolPh3XF8fbK",
    "papermill": {
     "duration": 0.042223,
     "end_time": "2022-04-14T18:28:19.876072",
     "exception": false,
     "start_time": "2022-04-14T18:28:19.833849",
     "status": "completed"
    },
    "tags": []
   },
   "source": [
    "# Training the model"
   ]
  },
  {
   "cell_type": "code",
   "execution_count": 30,
   "id": "50578671",
   "metadata": {
    "execution": {
     "iopub.execute_input": "2022-04-14T18:28:19.963944Z",
     "iopub.status.busy": "2022-04-14T18:28:19.963366Z",
     "iopub.status.idle": "2022-04-14T18:46:46.657347Z",
     "shell.execute_reply": "2022-04-14T18:46:46.656843Z"
    },
    "id": "dI5a0B_u-8LA",
    "outputId": "6fa46a3d-578e-4966-84b0-861550777963",
    "papermill": {
     "duration": 1106.739852,
     "end_time": "2022-04-14T18:46:46.657495",
     "exception": false,
     "start_time": "2022-04-14T18:28:19.917643",
     "status": "completed"
    },
    "tags": []
   },
   "outputs": [
    {
     "name": "stderr",
     "output_type": "stream",
     "text": [
      "2022-04-14 18:28:20.361609: I tensorflow/compiler/mlir/mlir_graph_optimization_pass.cc:185] None of the MLIR Optimization Passes are enabled (registered 2)\n"
     ]
    },
    {
     "name": "stdout",
     "output_type": "stream",
     "text": [
      "Epoch 1/50\n"
     ]
    },
    {
     "name": "stderr",
     "output_type": "stream",
     "text": [
      "2022-04-14 18:28:22.061190: I tensorflow/stream_executor/cuda/cuda_dnn.cc:369] Loaded cuDNN version 8005\n"
     ]
    },
    {
     "name": "stdout",
     "output_type": "stream",
     "text": [
      "142/142 [==============================] - 59s 363ms/step - loss: 3.3077 - accuracy: 0.0476 - val_loss: 4.0721 - val_accuracy: 0.0456\n",
      "Epoch 2/50\n",
      "142/142 [==============================] - 33s 230ms/step - loss: 3.2292 - accuracy: 0.0639 - val_loss: 3.1429 - val_accuracy: 0.0952\n",
      "Epoch 3/50\n",
      "142/142 [==============================] - 34s 239ms/step - loss: 3.1800 - accuracy: 0.0840 - val_loss: 3.1269 - val_accuracy: 0.1071\n",
      "Epoch 4/50\n",
      "142/142 [==============================] - 34s 237ms/step - loss: 3.0839 - accuracy: 0.1111 - val_loss: 3.0248 - val_accuracy: 0.1190\n",
      "Epoch 5/50\n",
      "142/142 [==============================] - 34s 239ms/step - loss: 3.0002 - accuracy: 0.1373 - val_loss: 2.9312 - val_accuracy: 0.1726\n",
      "Epoch 6/50\n",
      "142/142 [==============================] - 33s 233ms/step - loss: 2.8856 - accuracy: 0.1541 - val_loss: 2.9296 - val_accuracy: 0.1290\n",
      "Epoch 7/50\n",
      "142/142 [==============================] - 33s 233ms/step - loss: 2.7728 - accuracy: 0.1834 - val_loss: 3.2164 - val_accuracy: 0.1667\n",
      "Epoch 8/50\n",
      "142/142 [==============================] - 33s 234ms/step - loss: 2.6382 - accuracy: 0.2251 - val_loss: 2.8186 - val_accuracy: 0.1746\n",
      "Epoch 9/50\n",
      "142/142 [==============================] - 33s 229ms/step - loss: 2.4989 - accuracy: 0.2489 - val_loss: 2.5802 - val_accuracy: 0.2480\n",
      "Epoch 10/50\n",
      "142/142 [==============================] - 33s 234ms/step - loss: 2.3644 - accuracy: 0.2877 - val_loss: 2.5158 - val_accuracy: 0.2480\n",
      "Epoch 11/50\n",
      "142/142 [==============================] - 34s 236ms/step - loss: 2.2322 - accuracy: 0.3267 - val_loss: 2.8089 - val_accuracy: 0.2143\n",
      "Epoch 12/50\n",
      "142/142 [==============================] - 33s 234ms/step - loss: 2.0645 - accuracy: 0.3688 - val_loss: 2.1737 - val_accuracy: 0.3512\n",
      "Epoch 13/50\n",
      "142/142 [==============================] - 33s 234ms/step - loss: 1.8500 - accuracy: 0.4347 - val_loss: 1.9061 - val_accuracy: 0.4365\n",
      "Epoch 14/50\n",
      "142/142 [==============================] - 33s 234ms/step - loss: 1.6981 - accuracy: 0.4850 - val_loss: 2.0183 - val_accuracy: 0.4365\n",
      "Epoch 15/50\n",
      "142/142 [==============================] - 34s 240ms/step - loss: 1.5266 - accuracy: 0.5397 - val_loss: 1.6644 - val_accuracy: 0.5119\n",
      "Epoch 16/50\n",
      "142/142 [==============================] - 33s 233ms/step - loss: 1.3618 - accuracy: 0.5816 - val_loss: 1.8125 - val_accuracy: 0.4960\n",
      "Epoch 17/50\n",
      "142/142 [==============================] - 34s 237ms/step - loss: 1.2465 - accuracy: 0.6124 - val_loss: 1.4619 - val_accuracy: 0.5952\n",
      "Epoch 18/50\n",
      "142/142 [==============================] - 33s 236ms/step - loss: 1.1292 - accuracy: 0.6451 - val_loss: 1.4709 - val_accuracy: 0.5893\n",
      "Epoch 19/50\n",
      "142/142 [==============================] - 33s 234ms/step - loss: 0.9884 - accuracy: 0.6944 - val_loss: 1.5040 - val_accuracy: 0.6052\n",
      "Epoch 20/50\n",
      "142/142 [==============================] - 34s 239ms/step - loss: 0.9050 - accuracy: 0.7127 - val_loss: 1.4233 - val_accuracy: 0.6369\n",
      "Epoch 21/50\n",
      "142/142 [==============================] - 33s 234ms/step - loss: 0.8048 - accuracy: 0.7478 - val_loss: 1.7885 - val_accuracy: 0.6012\n",
      "Epoch 22/50\n",
      "142/142 [==============================] - 34s 236ms/step - loss: 0.7207 - accuracy: 0.7670 - val_loss: 1.6027 - val_accuracy: 0.6349\n",
      "Epoch 23/50\n",
      "142/142 [==============================] - 34s 236ms/step - loss: 0.6726 - accuracy: 0.7820 - val_loss: 1.3918 - val_accuracy: 0.6706\n",
      "Epoch 24/50\n",
      "142/142 [==============================] - 33s 233ms/step - loss: 0.5897 - accuracy: 0.8199 - val_loss: 1.7300 - val_accuracy: 0.5913\n",
      "Epoch 25/50\n",
      "142/142 [==============================] - 33s 234ms/step - loss: 0.5789 - accuracy: 0.8179 - val_loss: 1.5541 - val_accuracy: 0.6627\n",
      "Epoch 26/50\n",
      "142/142 [==============================] - 34s 238ms/step - loss: 0.5095 - accuracy: 0.8362 - val_loss: 1.5864 - val_accuracy: 0.6825\n",
      "Epoch 27/50\n",
      "142/142 [==============================] - 34s 238ms/step - loss: 0.4468 - accuracy: 0.8642 - val_loss: 1.2767 - val_accuracy: 0.7004\n",
      "Epoch 28/50\n",
      "142/142 [==============================] - 34s 237ms/step - loss: 0.4366 - accuracy: 0.8728 - val_loss: 1.6794 - val_accuracy: 0.6548\n",
      "Epoch 29/50\n",
      "142/142 [==============================] - 34s 238ms/step - loss: 0.4029 - accuracy: 0.8754 - val_loss: 1.6734 - val_accuracy: 0.6627\n",
      "Epoch 30/50\n",
      "142/142 [==============================] - 34s 240ms/step - loss: 0.3771 - accuracy: 0.8814 - val_loss: 1.6598 - val_accuracy: 0.6607\n",
      "Epoch 31/50\n",
      "142/142 [==============================] - 34s 239ms/step - loss: 0.3532 - accuracy: 0.8896 - val_loss: 1.4803 - val_accuracy: 0.6865\n",
      "Epoch 32/50\n",
      "142/142 [==============================] - 34s 236ms/step - loss: 0.3533 - accuracy: 0.8884 - val_loss: 2.5036 - val_accuracy: 0.5556\n"
     ]
    }
   ],
   "source": [
    "history = model.fit(\n",
    "    train_gen,\n",
    "    epochs=50,\n",
    "    validation_data=val_gen,\n",
    "    callbacks=[early_stopping_callback]\n",
    "    )"
   ]
  },
  {
   "cell_type": "code",
   "execution_count": 31,
   "id": "bb326feb",
   "metadata": {
    "execution": {
     "iopub.execute_input": "2022-04-14T18:46:49.672241Z",
     "iopub.status.busy": "2022-04-14T18:46:49.671080Z",
     "iopub.status.idle": "2022-04-14T18:46:49.774856Z",
     "shell.execute_reply": "2022-04-14T18:46:49.774409Z"
    },
    "papermill": {
     "duration": 1.619729,
     "end_time": "2022-04-14T18:46:49.775016",
     "exception": false,
     "start_time": "2022-04-14T18:46:48.155287",
     "status": "completed"
    },
    "tags": []
   },
   "outputs": [],
   "source": [
    "model.save('Custom_CNN_ASL_aug_roboflow.h5')"
   ]
  },
  {
   "cell_type": "code",
   "execution_count": 32,
   "id": "ee0d3efb",
   "metadata": {
    "execution": {
     "iopub.execute_input": "2022-04-14T18:46:53.042231Z",
     "iopub.status.busy": "2022-04-14T18:46:53.041435Z",
     "iopub.status.idle": "2022-04-14T18:46:53.418840Z",
     "shell.execute_reply": "2022-04-14T18:46:53.419271Z",
     "shell.execute_reply.started": "2022-03-08T11:09:03.673286Z"
    },
    "id": "Ysvji3rKGkVh",
    "papermill": {
     "duration": 1.897044,
     "end_time": "2022-04-14T18:46:53.419421",
     "exception": false,
     "start_time": "2022-04-14T18:46:51.522377",
     "status": "completed"
    },
    "tags": []
   },
   "outputs": [
    {
     "data": {
      "image/png": "[encoded data removed]",
      "text/plain": [
       "<Figure size 432x288 with 1 Axes>"
      ]
     },
     "metadata": {
      "needs_background": "light"
     },
     "output_type": "display_data"
    },
    {
     "data": {
      "image/png": "[encoded data removed]",
      "text/plain": [
       "<Figure size 432x288 with 1 Axes>"
      ]
     },
     "metadata": {
      "needs_background": "light"
     },
     "output_type": "display_data"
    }
   ],
   "source": [
    "acc = history.history['accuracy']\n",
    "val_acc = history.history['val_accuracy']\n",
    "loss = history.history['loss']\n",
    "val_loss = history.history['val_loss']\n",
    "\n",
    "epochs = range(len(acc))\n",
    "\n",
    "plt.plot(epochs, acc, 'b', label='Training acc')\n",
    "plt.plot(epochs, val_acc, 'r', label='Validation acc')\n",
    "plt.title('Training and validation accuracy')\n",
    "plt.legend()\n",
    "\n",
    "plt.figure()\n",
    "\n",
    "plt.plot(epochs, loss, 'b', label='Training loss')\n",
    "plt.plot(epochs, val_loss, 'r', label='Validation loss')\n",
    "plt.title('Training and validation loss')\n",
    "plt.legend()\n",
    "\n",
    "plt.show()"
   ]
  },
  {
   "cell_type": "markdown",
   "id": "78ab2484",
   "metadata": {
    "id": "jTYXVae3_VUr",
    "papermill": {
     "duration": 1.673756,
     "end_time": "2022-04-14T18:46:56.986075",
     "exception": false,
     "start_time": "2022-04-14T18:46:55.312319",
     "status": "completed"
    },
    "tags": []
   },
   "source": [
    "# Visualization"
   ]
  },
  {
   "cell_type": "code",
   "execution_count": 33,
   "id": "33d339dd",
   "metadata": {
    "execution": {
     "iopub.execute_input": "2022-04-14T18:46:59.951467Z",
     "iopub.status.busy": "2022-04-14T18:46:59.950598Z",
     "iopub.status.idle": "2022-04-14T18:46:59.952886Z",
     "shell.execute_reply": "2022-04-14T18:46:59.952365Z",
     "shell.execute_reply.started": "2022-04-14T18:26:11.831557Z"
    },
    "papermill": {
     "duration": 1.486474,
     "end_time": "2022-04-14T18:46:59.952998",
     "exception": false,
     "start_time": "2022-04-14T18:46:58.466524",
     "status": "completed"
    },
    "tags": []
   },
   "outputs": [],
   "source": [
    "# evaluate_metrics = model.evaluate(test_df[''], )\n",
    "# print(\"\\nEvaluation Accuracy = \", \"{:.2f}%\".format(evaluate_metrics[1]*100),\"\\nEvaluation loss = \" ,\"{:.6f}\".format(evaluate_metrics[0]))"
   ]
  },
  {
   "cell_type": "code",
   "execution_count": 34,
   "id": "5a61c914",
   "metadata": {
    "execution": {
     "iopub.execute_input": "2022-04-14T18:47:03.219373Z",
     "iopub.status.busy": "2022-04-14T18:47:03.217533Z",
     "iopub.status.idle": "2022-04-14T18:47:03.220411Z",
     "shell.execute_reply": "2022-04-14T18:47:03.221006Z",
     "shell.execute_reply.started": "2022-04-14T18:26:12.871173Z"
    },
    "papermill": {
     "duration": 1.506116,
     "end_time": "2022-04-14T18:47:03.221235",
     "exception": false,
     "start_time": "2022-04-14T18:47:01.715119",
     "status": "completed"
    },
    "tags": []
   },
   "outputs": [],
   "source": [
    "# import numpy as np\n",
    "# import os\n",
    "# import cv2"
   ]
  },
  {
   "cell_type": "code",
   "execution_count": 35,
   "id": "f34d9fe3",
   "metadata": {
    "execution": {
     "iopub.execute_input": "2022-04-14T18:47:06.274601Z",
     "iopub.status.busy": "2022-04-14T18:47:06.272774Z",
     "iopub.status.idle": "2022-04-14T18:47:06.275203Z",
     "shell.execute_reply": "2022-04-14T18:47:06.275605Z",
     "shell.execute_reply.started": "2022-04-14T18:26:13.405954Z"
    },
    "papermill": {
     "duration": 1.545828,
     "end_time": "2022-04-14T18:47:06.275737",
     "exception": false,
     "start_time": "2022-04-14T18:47:04.729909",
     "status": "completed"
    },
    "tags": []
   },
   "outputs": [],
   "source": [
    "# def load_test_data():\n",
    "#     images = []\n",
    "#     names = []\n",
    "#     size = 224,224\n",
    "#     for image in os.listdir(test_data):\n",
    "#         print(image)\n",
    "#         if image == '_classes.csv':\n",
    "#             pass\n",
    "#         temp = cv2.imread(test_data + '/' + image)\n",
    "#         temp = cv2.resize(temp, size)\n",
    "#         images.append(temp)\n",
    "#         names.append(image)\n",
    "#     images = np.array(images)\n",
    "#     images = images.astype('float32')/255.0\n",
    "#     return images, names\n",
    "\n",
    "# test_images, test_img_names = load_test_data()"
   ]
  },
  {
   "cell_type": "code",
   "execution_count": 36,
   "id": "b65ecba2",
   "metadata": {
    "execution": {
     "iopub.execute_input": "2022-04-14T18:47:09.320948Z",
     "iopub.status.busy": "2022-04-14T18:47:09.320060Z",
     "iopub.status.idle": "2022-04-14T18:47:09.322394Z",
     "shell.execute_reply": "2022-04-14T18:47:09.321854Z",
     "shell.execute_reply.started": "2022-04-14T18:26:13.723933Z"
    },
    "papermill": {
     "duration": 1.516087,
     "end_time": "2022-04-14T18:47:09.322506",
     "exception": false,
     "start_time": "2022-04-14T18:47:07.806419",
     "status": "completed"
    },
    "tags": []
   },
   "outputs": [],
   "source": [
    "# model\n",
    "# evaluate = model.evaluate(\n",
    "#     test_gen)"
   ]
  },
  {
   "cell_type": "code",
   "execution_count": 37,
   "id": "5fd9cc37",
   "metadata": {
    "execution": {
     "iopub.execute_input": "2022-04-14T18:47:12.572787Z",
     "iopub.status.busy": "2022-04-14T18:47:12.571916Z",
     "iopub.status.idle": "2022-04-14T18:47:12.574051Z",
     "shell.execute_reply": "2022-04-14T18:47:12.574685Z",
     "shell.execute_reply.started": "2022-04-14T18:26:14.633115Z"
    },
    "papermill": {
     "duration": 1.769113,
     "end_time": "2022-04-14T18:47:12.574882",
     "exception": false,
     "start_time": "2022-04-14T18:47:10.805769",
     "status": "completed"
    },
    "tags": []
   },
   "outputs": [],
   "source": [
    "# predictions = [model.predict(image.reshape(1,224,224,3))[0] for image in test_images]\n",
    "# predictions=np.argmax(predictions,axis=1)"
   ]
  },
  {
   "cell_type": "code",
   "execution_count": 38,
   "id": "13b3ee29",
   "metadata": {
    "execution": {
     "iopub.execute_input": "2022-04-14T18:47:15.677154Z",
     "iopub.status.busy": "2022-04-14T18:47:15.676254Z",
     "iopub.status.idle": "2022-04-14T18:47:15.678594Z",
     "shell.execute_reply": "2022-04-14T18:47:15.678096Z",
     "shell.execute_reply.started": "2022-04-14T18:26:15.437120Z"
    },
    "papermill": {
     "duration": 1.501574,
     "end_time": "2022-04-14T18:47:15.678715",
     "exception": false,
     "start_time": "2022-04-14T18:47:14.177141",
     "status": "completed"
    },
    "tags": []
   },
   "outputs": [],
   "source": [
    "# labels_dict = {'A':0,'B':1,'C':2,'D':3,'E':4,'F':5,'G':6,'H':7,'I':8,'J':9,'K':10,'L':11,'M':12,\n",
    "#                    'N':13,'O':14,'P':15,'Q':16,'R':17,'S':18,'T':19,'U':20,'V':21,'W':22,'X':23,'Y':24,\n",
    "#                    'Z':25,'space':26,'del':27,'nothing':28}"
   ]
  },
  {
   "cell_type": "code",
   "execution_count": 39,
   "id": "a5d882d6",
   "metadata": {
    "execution": {
     "iopub.execute_input": "2022-04-14T18:47:18.687746Z",
     "iopub.status.busy": "2022-04-14T18:47:18.687225Z",
     "iopub.status.idle": "2022-04-14T18:47:18.690759Z",
     "shell.execute_reply": "2022-04-14T18:47:18.690316Z",
     "shell.execute_reply.started": "2022-04-14T18:26:16.311495Z"
    },
    "papermill": {
     "duration": 1.491799,
     "end_time": "2022-04-14T18:47:18.690880",
     "exception": false,
     "start_time": "2022-04-14T18:47:17.199081",
     "status": "completed"
    },
    "tags": []
   },
   "outputs": [],
   "source": [
    "# def get_labels_for_plot(predictions):\n",
    "#     predictions_labels = []\n",
    "#     for i in range(len(predictions)):\n",
    "#         for ins in labels_dict.values():\n",
    "#             if predictions[i] == ins:\n",
    "#                 predictions_labels.append(ins)\n",
    "#                 break\n",
    "#     return predictions_labels\n",
    "\n",
    "# predictions_labels_plot = get_labels_for_plot(predictions)"
   ]
  },
  {
   "cell_type": "code",
   "execution_count": 40,
   "id": "7597c723",
   "metadata": {
    "execution": {
     "iopub.execute_input": "2022-04-14T18:47:21.723188Z",
     "iopub.status.busy": "2022-04-14T18:47:21.722596Z",
     "iopub.status.idle": "2022-04-14T18:47:21.726436Z",
     "shell.execute_reply": "2022-04-14T18:47:21.725890Z",
     "shell.execute_reply.started": "2022-04-14T18:26:17.082031Z"
    },
    "papermill": {
     "duration": 1.544866,
     "end_time": "2022-04-14T18:47:21.726554",
     "exception": false,
     "start_time": "2022-04-14T18:47:20.181688",
     "status": "completed"
    },
    "tags": []
   },
   "outputs": [],
   "source": [
    "# predfigure = plt.figure(figsize = (13,13))\n",
    "# def plot_image_1(fig, image, label, prediction, predictions_label, row, col, index):\n",
    "#     fig.add_subplot(row, col, index)\n",
    "#     plt.axis('off')\n",
    "#     plt.imshow(image)\n",
    "#     title = \"prediction : [\" + str(predictions_label) + \"] \"+ \"\\n\" + label\n",
    "#     plt.title(title)\n",
    "#     return\n",
    "\n",
    "# image_index = 0\n",
    "# row = 5\n",
    "# col = 6\n",
    "# for i in range(1,(row*col-1)):\n",
    "#     plot_image_1(predfigure, test_images[image_index], test_img_names[image_index], predictions[image_index], predictions_labels_plot[image_index], row, col, i)\n",
    "#     image_index = image_index + 1\n",
    "# plt.show()\n"
   ]
  }
 ],
 "metadata": {
  "kernelspec": {
   "display_name": "Python 3",
   "language": "python",
   "name": "python3"
  },
  "language_info": {
   "codemirror_mode": {
    "name": "ipython",
    "version": 3
   },
   "file_extension": ".py",
   "mimetype": "text/x-python",
   "name": "python",
   "nbconvert_exporter": "python",
   "pygments_lexer": "ipython3",
   "version": "3.7.12"
  },
  "papermill": {
   "default_parameters": {},
   "duration": 1179.745,
   "end_time": "2022-04-14T18:47:27.158087",
   "environment_variables": {},
   "exception": null,
   "input_path": "__notebook__.ipynb",
   "output_path": "__notebook__.ipynb",
   "parameters": {},
   "start_time": "2022-04-14T18:27:47.413087",
   "version": "2.3.3"
  }
 },
 "nbformat": 4,
 "nbformat_minor": 5
}
